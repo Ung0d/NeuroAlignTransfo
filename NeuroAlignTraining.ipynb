{
 "cells": [
  {
   "cell_type": "markdown",
   "metadata": {},
   "source": [
    "## NeuroAlign - Training\n",
    "\n"
   ]
  },
  {
   "cell_type": "code",
   "execution_count": 1,
   "metadata": {},
   "outputs": [
    {
     "name": "stdout",
     "output_type": "stream",
     "text": [
      "Using  2  GPU devices.\n"
     ]
    }
   ],
   "source": [
    "import tensorflow as tf\n",
    "from tensorflow import keras\n",
    "from tensorflow.keras import layers\n",
    "import numpy as np\n",
    "import random\n",
    "import os\n",
    "import matplotlib.pyplot as plt\n",
    "from tensorflow.keras.callbacks import CSVLogger\n",
    "import Model as model\n",
    "import Data as data\n",
    "import Evaluation as eval\n",
    "\n",
    "GPUS = tf.config.experimental.list_logical_devices('GPU')\n",
    "NUM_DEVICES = max(1, len(GPUS))\n",
    "\n",
    "if len(GPUS) > 0:\n",
    "    print(\"Using \", NUM_DEVICES, \" GPU devices.\")\n",
    "else:\n",
    "    print(\"Using CPU.\")"
   ]
  },
  {
   "cell_type": "code",
   "execution_count": 2,
   "metadata": {},
   "outputs": [
    {
     "name": "stdout",
     "output_type": "stream",
     "text": [
      "Configured model base2 and initialized weights randomly.\n"
     ]
    }
   ],
   "source": [
    "NUM_EPOCHS = 200\n",
    "NAME = \"base2\"\n",
    "MODEL_PATH = \"./models/\" + NAME\n",
    "CHECKPOINT_PATH = MODEL_PATH + \"/model.ckpt\"\n",
    "\n",
    "os.makedirs(MODEL_PATH, exist_ok=True)\n",
    "\n",
    "##################################################################################################\n",
    "##################################################################################################\n",
    "neuroalign, neuroalign_config = model.make_neuro_align_model(NAME)"
   ]
  },
  {
   "cell_type": "code",
   "execution_count": 3,
   "metadata": {},
   "outputs": [
    {
     "name": "stdout",
     "output_type": "stream",
     "text": [
      "10 % loaded\n",
      "20 % loaded\n",
      "30 % loaded\n",
      "40 % loaded\n",
      "50 % loaded\n",
      "60 % loaded\n",
      "70 % loaded\n",
      "80 % loaded\n",
      "90 % loaded\n",
      "Using the full dataset.\n"
     ]
    }
   ],
   "source": [
    "#Pfam protein families have identifiers of the form PF00001, PF00002, ...\n",
    "#The largest id is PF19227, but the counting is not contiguous, there may be missing numbers\n",
    "pfam = [\"PF\"+\"{0:0=5d}\".format(i) for i in range(1,19228)]\n",
    "pfam_not_found = 0\n",
    "#pfam = pfam[:1]\n",
    "fasta = []\n",
    "\n",
    "for i,file in enumerate(pfam):\n",
    "    try:\n",
    "        f = data.Fasta(\"../brain/Pfam/alignments/\" + file + \".fasta\", gaps = True, contains_lower_case = True)\n",
    "        fasta.append(f)\n",
    "        for x in range(1,10):\n",
    "            if i/len(pfam) > x/10 and (i-1)/len(pfam) < x/10:\n",
    "                print(x*10, \"% loaded\")\n",
    "                gc.collect()\n",
    "    except:\n",
    "        pfam_not_found += 1\n",
    "\n",
    "np.random.seed(0)\n",
    "random.seed(0)\n",
    "\n",
    "indices = np.arange(len(fasta))\n",
    "np.random.shuffle(indices)\n",
    "if len(fasta) > 10:\n",
    "    print(\"Using the full dataset.\")\n",
    "    train, val = np.split(indices, [int(len(fasta)*(1-neuroalign_config[\"validation_split\"]))]) \n",
    "    train_gen = data.AlignmentSampleGenerator(train, fasta, neuroalign_config, neuroalign_config[\"family_size\"], NUM_DEVICES)\n",
    "    val_gen = data.AlignmentSampleGenerator(val, fasta, neuroalign_config, 2*neuroalign_config[\"family_size\"], NUM_DEVICES, False)\n",
    "else: \n",
    "    print(\"Using a small test dataset.\")\n",
    "    train_gen = data.AlignmentSampleGenerator(np.arange(len(fasta)), fasta, neuroalign_config, neuroalign_config[\"family_size\"], NUM_DEVICES)\n",
    "    val_gen = data.AlignmentSampleGenerator(np.arange(len(fasta)), fasta, neuroalign_config, 2*neuroalign_config[\"family_size\"], NUM_DEVICES, False) "
   ]
  },
  {
   "cell_type": "code",
   "execution_count": null,
   "metadata": {},
   "outputs": [
    {
     "name": "stdout",
     "output_type": "stream",
     "text": [
      "Epoch 1/200\n",
      "17346/17346 [==============================] - ETA: 0s - loss: 4.1588 - GPU_0_out_columns_loss: 1.3184 - GPU_0_out_attention_loss: 2.8302 - GPU_1_out_columns_loss: 1.2039 - GPU_1_out_attention_loss: 2.4195 - GPU_0_out_columns_categorical_accuracy: 0.4098 - GPU_0_out_attention_precision: 0.6624 - GPU_0_out_attention_recall: 0.1093 - GPU_1_out_columns_categorical_accuracy: 0.4116 - GPU_1_out_attention_precision: 0.6628 - GPU_1_out_attention_recall: 0.1091Saved model to ./models/base2/model.ckpt\n",
      "17346/17346 [==============================] - 3546s 204ms/step - loss: 4.1588 - GPU_0_out_columns_loss: 1.3184 - GPU_0_out_attention_loss: 2.8302 - GPU_1_out_columns_loss: 1.2039 - GPU_1_out_attention_loss: 2.4195 - GPU_0_out_columns_categorical_accuracy: 0.4098 - GPU_0_out_attention_precision: 0.6624 - GPU_0_out_attention_recall: 0.1093 - GPU_1_out_columns_categorical_accuracy: 0.4116 - GPU_1_out_attention_precision: 0.6628 - GPU_1_out_attention_recall: 0.1091 - val_loss: 2.5511 - val_GPU_0_out_columns_loss: 0.8266 - val_GPU_0_out_attention_loss: 1.8792 - val_GPU_1_out_columns_loss: 0.6624 - val_GPU_1_out_attention_loss: 1.3800 - val_GPU_0_out_columns_categorical_accuracy: 0.6255 - val_GPU_0_out_attention_precision: 0.6887 - val_GPU_0_out_attention_recall: 0.3470 - val_GPU_1_out_columns_categorical_accuracy: 0.6208 - val_GPU_1_out_attention_precision: 0.6907 - val_GPU_1_out_attention_recall: 0.3441\n",
      "Epoch 2/200\n",
      "17346/17346 [==============================] - ETA: 0s - loss: 1.8808 - GPU_0_out_columns_loss: 0.6593 - GPU_0_out_attention_loss: 1.2553 - GPU_1_out_columns_loss: 0.5730 - GPU_1_out_attention_loss: 1.0579 - GPU_0_out_columns_categorical_accuracy: 0.7177 - GPU_0_out_attention_precision: 0.7881 - GPU_0_out_attention_recall: 0.4818 - GPU_1_out_columns_categorical_accuracy: 0.7180 - GPU_1_out_attention_precision: 0.7886 - GPU_1_out_attention_recall: 0.4829Saved model to ./models/base2/model.ckpt\n",
      "17346/17346 [==============================] - 3556s 205ms/step - loss: 1.8808 - GPU_0_out_columns_loss: 0.6593 - GPU_0_out_attention_loss: 1.2553 - GPU_1_out_columns_loss: 0.5730 - GPU_1_out_attention_loss: 1.0579 - GPU_0_out_columns_categorical_accuracy: 0.7177 - GPU_0_out_attention_precision: 0.7881 - GPU_0_out_attention_recall: 0.4818 - GPU_1_out_columns_categorical_accuracy: 0.7180 - GPU_1_out_attention_precision: 0.7886 - GPU_1_out_attention_recall: 0.4829 - val_loss: 1.4949 - val_GPU_0_out_columns_loss: 0.5050 - val_GPU_0_out_attention_loss: 1.0552 - val_GPU_1_out_columns_loss: 0.4292 - val_GPU_1_out_attention_loss: 0.8135 - val_GPU_0_out_columns_categorical_accuracy: 0.7606 - val_GPU_0_out_attention_precision: 0.8301 - val_GPU_0_out_attention_recall: 0.6318 - val_GPU_1_out_columns_categorical_accuracy: 0.7646 - val_GPU_1_out_attention_precision: 0.8273 - val_GPU_1_out_attention_recall: 0.6322\n",
      "Epoch 3/200\n",
      "17346/17346 [==============================] - ETA: 0s - loss: 1.3974 - GPU_0_out_columns_loss: 0.5071 - GPU_0_out_attention_loss: 0.8957 - GPU_1_out_columns_loss: 0.4545 - GPU_1_out_attention_loss: 0.7922 - GPU_0_out_columns_categorical_accuracy: 0.7646 - GPU_0_out_attention_precision: 0.8437 - GPU_0_out_attention_recall: 0.6182 - GPU_1_out_columns_categorical_accuracy: 0.7634 - GPU_1_out_attention_precision: 0.8424 - GPU_1_out_attention_recall: 0.6145Saved model to ./models/base2/model.ckpt\n",
      "17346/17346 [==============================] - 3562s 205ms/step - loss: 1.3974 - GPU_0_out_columns_loss: 0.5071 - GPU_0_out_attention_loss: 0.8957 - GPU_1_out_columns_loss: 0.4545 - GPU_1_out_attention_loss: 0.7922 - GPU_0_out_columns_categorical_accuracy: 0.7646 - GPU_0_out_attention_precision: 0.8437 - GPU_0_out_attention_recall: 0.6182 - GPU_1_out_columns_categorical_accuracy: 0.7634 - GPU_1_out_attention_precision: 0.8424 - GPU_1_out_attention_recall: 0.6145 - val_loss: 1.3150 - val_GPU_0_out_columns_loss: 0.4618 - val_GPU_0_out_attention_loss: 0.9257 - val_GPU_1_out_columns_loss: 0.3848 - val_GPU_1_out_attention_loss: 0.7016 - val_GPU_0_out_columns_categorical_accuracy: 0.7748 - val_GPU_0_out_attention_precision: 0.8490 - val_GPU_0_out_attention_recall: 0.6805 - val_GPU_1_out_columns_categorical_accuracy: 0.7757 - val_GPU_1_out_attention_precision: 0.8492 - val_GPU_1_out_attention_recall: 0.6796\n",
      "Epoch 4/200\n",
      "17346/17346 [==============================] - ETA: 0s - loss: 1.2743 - GPU_0_out_columns_loss: 0.4621 - GPU_0_out_attention_loss: 0.8154 - GPU_1_out_columns_loss: 0.4172 - GPU_1_out_attention_loss: 0.7221 - GPU_0_out_columns_categorical_accuracy: 0.7693 - GPU_0_out_attention_precision: 0.8537 - GPU_0_out_attention_recall: 0.6484 - GPU_1_out_columns_categorical_accuracy: 0.7693 - GPU_1_out_attention_precision: 0.8548 - GPU_1_out_attention_recall: 0.6488Saved model to ./models/base2/model.ckpt\n",
      "17346/17346 [==============================] - 3565s 206ms/step - loss: 1.2743 - GPU_0_out_columns_loss: 0.4621 - GPU_0_out_attention_loss: 0.8154 - GPU_1_out_columns_loss: 0.4172 - GPU_1_out_attention_loss: 0.7221 - GPU_0_out_columns_categorical_accuracy: 0.7693 - GPU_0_out_attention_precision: 0.8537 - GPU_0_out_attention_recall: 0.6484 - GPU_1_out_columns_categorical_accuracy: 0.7693 - GPU_1_out_attention_precision: 0.8548 - GPU_1_out_attention_recall: 0.6488 - val_loss: 1.2704 - val_GPU_0_out_columns_loss: 0.4299 - val_GPU_0_out_attention_loss: 0.8641 - val_GPU_1_out_columns_loss: 0.3744 - val_GPU_1_out_attention_loss: 0.7170 - val_GPU_0_out_columns_categorical_accuracy: 0.7856 - val_GPU_0_out_attention_precision: 0.8523 - val_GPU_0_out_attention_recall: 0.6979 - val_GPU_1_out_columns_categorical_accuracy: 0.7839 - val_GPU_1_out_attention_precision: 0.8479 - val_GPU_1_out_attention_recall: 0.6864\n",
      "Epoch 5/200\n",
      " 1361/17346 [=>............................] - ETA: 52:52 - loss: 1.2285 - GPU_0_out_columns_loss: 0.4426 - GPU_0_out_attention_loss: 0.7805 - GPU_1_out_columns_loss: 0.4041 - GPU_1_out_attention_loss: 0.7026 - GPU_0_out_columns_categorical_accuracy: 0.7739 - GPU_0_out_attention_precision: 0.8611 - GPU_0_out_attention_recall: 0.6639 - GPU_1_out_columns_categorical_accuracy: 0.7734 - GPU_1_out_attention_precision: 0.8546 - GPU_1_out_attention_recall: 0.6549"
     ]
    },
    {
     "name": "stderr",
     "output_type": "stream",
     "text": [
      "IOPub data rate exceeded.\n",
      "The notebook server will temporarily stop sending output\n",
      "to the client in order to avoid crashing it.\n",
      "To change this limit, set the config variable\n",
      "`--NotebookApp.iopub_data_rate_limit`.\n",
      "\n",
      "Current values:\n",
      "NotebookApp.iopub_data_rate_limit=1000000.0 (bytes/sec)\n",
      "NotebookApp.rate_limit_window=3.0 (secs)\n",
      "\n"
     ]
    },
    {
     "name": "stdout",
     "output_type": "stream",
     "text": [
      "17055/17346 [============================>.] - ETA: 57s - loss: 1.2110 - GPU_0_out_columns_loss: 0.4386 - GPU_0_out_attention_loss: 0.7719 - GPU_1_out_columns_loss: 0.3985 - GPU_1_out_attention_loss: 0.6883 - GPU_0_out_columns_categorical_accuracy: 0.7714 - GPU_0_out_attention_precision: 0.8590 - GPU_0_out_attention_recall: 0.6641 - GPU_1_out_columns_categorical_accuracy: 0.7721 - GPU_1_out_attention_precision: 0.8600 - GPU_1_out_attention_recall: 0.6646"
     ]
    },
    {
     "name": "stderr",
     "output_type": "stream",
     "text": [
      "IOPub data rate exceeded.\n",
      "The notebook server will temporarily stop sending output\n",
      "to the client in order to avoid crashing it.\n",
      "To change this limit, set the config variable\n",
      "`--NotebookApp.iopub_data_rate_limit`.\n",
      "\n",
      "Current values:\n",
      "NotebookApp.iopub_data_rate_limit=1000000.0 (bytes/sec)\n",
      "NotebookApp.rate_limit_window=3.0 (secs)\n",
      "\n"
     ]
    },
    {
     "name": "stdout",
     "output_type": "stream",
     "text": [
      "17346/17346 [==============================] - ETA: 0s - loss: 1.1807 - GPU_0_out_columns_loss: 0.4279 - GPU_0_out_attention_loss: 0.7533 - GPU_1_out_columns_loss: 0.3875 - GPU_1_out_attention_loss: 0.6709 - GPU_0_out_columns_categorical_accuracy: 0.7730 - GPU_0_out_attention_precision: 0.8619 - GPU_0_out_attention_recall: 0.6729 - GPU_1_out_columns_categorical_accuracy: 0.7716 - GPU_1_out_attention_precision: 0.8617 - GPU_1_out_attention_recall: 0.6731Saved model to ./models/base2/model.ckpt\n",
      "17346/17346 [==============================] - 3570s 206ms/step - loss: 1.1807 - GPU_0_out_columns_loss: 0.4279 - GPU_0_out_attention_loss: 0.7533 - GPU_1_out_columns_loss: 0.3875 - GPU_1_out_attention_loss: 0.6709 - GPU_0_out_columns_categorical_accuracy: 0.7730 - GPU_0_out_attention_precision: 0.8619 - GPU_0_out_attention_recall: 0.6729 - GPU_1_out_columns_categorical_accuracy: 0.7716 - GPU_1_out_attention_precision: 0.8617 - GPU_1_out_attention_recall: 0.6731 - val_loss: 1.2049 - val_GPU_0_out_columns_loss: 0.4073 - val_GPU_0_out_attention_loss: 0.8247 - val_GPU_1_out_columns_loss: 0.3553 - val_GPU_1_out_attention_loss: 0.6751 - val_GPU_0_out_columns_categorical_accuracy: 0.7844 - val_GPU_0_out_attention_precision: 0.8618 - val_GPU_0_out_attention_recall: 0.7287 - val_GPU_1_out_columns_categorical_accuracy: 0.7775 - val_GPU_1_out_attention_precision: 0.8607 - val_GPU_1_out_attention_recall: 0.7218\n",
      "Epoch 7/200\n",
      " 3209/17346 [====>.........................] - ETA: 46:04 - loss: 1.1566 - GPU_0_out_columns_loss: 0.4141 - GPU_0_out_attention_loss: 0.7235 - GPU_1_out_columns_loss: 0.3856 - GPU_1_out_attention_loss: 0.6711 - GPU_0_out_columns_categorical_accuracy: 0.7775 - GPU_0_out_attention_precision: 0.8643 - GPU_0_out_attention_recall: 0.6833 - GPU_1_out_columns_categorical_accuracy: 0.7748 - GPU_1_out_attention_precision: 0.8628 - GPU_1_out_attention_recall: 0.6768"
     ]
    }
   ],
   "source": [
    "INPUT_DIM = 28\n",
    "\n",
    "COLUMN_LOSS_WEIGHT = 0.4\n",
    "ATTENTION_LOSS_WEIGHT = 0.6\n",
    "SEQUENCE_LOSS_WEIGHT = 1\n",
    "\n",
    "##################################################################################################\n",
    "##################################################################################################\n",
    "\n",
    "class CustomSchedule(tf.keras.optimizers.schedules.LearningRateSchedule):\n",
    "    def __init__(self, warmup_steps=4000):\n",
    "        super(CustomSchedule, self).__init__()\n",
    "\n",
    "        self.d_model = tf.cast(neuroalign_config[\"col_dim\"], tf.float32)\n",
    "\n",
    "        self.warmup_steps = warmup_steps\n",
    "\n",
    "    def __call__(self, step):\n",
    "        arg1 = tf.math.rsqrt(step)\n",
    "        arg2 = step * (self.warmup_steps ** -1.5)\n",
    "\n",
    "        return tf.math.rsqrt(self.d_model) * tf.math.minimum(arg1, arg2)\n",
    "\n",
    "\n",
    "##################################################################################################\n",
    "##################################################################################################\n",
    "\n",
    "optimizer = tf.keras.optimizers.Adam(CustomSchedule(), beta_1=0.9, beta_2=0.98, \n",
    "                                     epsilon=1e-9)\n",
    "\n",
    "##################################################################################################\n",
    "##################################################################################################\n",
    "\n",
    "\n",
    "def losses_prefixed(losses, metrics, weights, prefix=\"\"):\n",
    "    if neuroalign_config[\"use_column_loss\"]:\n",
    "        losses.update({prefix+\"out_columns\" : eval.kld})\n",
    "        metrics.update({prefix+\"out_columns\" : \"categorical_accuracy\"})\n",
    "        weights.update({prefix+\"out_columns\" : COLUMN_LOSS_WEIGHT})\n",
    "    if neuroalign_config[\"use_attention_loss\"]:\n",
    "        losses.update({prefix+\"out_attention\" : \"categorical_crossentropy\"})\n",
    "        metrics.update({prefix+\"out_attention\" : [eval.precision, eval.recall]})\n",
    "        weights.update({prefix+\"out_attention\" : ATTENTION_LOSS_WEIGHT})\n",
    "        \n",
    "\n",
    "losses, metrics, weights = {}, {}, {}\n",
    "if NUM_DEVICES == 1:\n",
    "    model = neuroalign\n",
    "    losses_prefixed(losses, metrics, weights)\n",
    "else:\n",
    "    inputs, outputs = [], []\n",
    "    for i, gpu in enumerate(GPUS):\n",
    "        with tf.device(gpu.name):\n",
    "            sequences = keras.Input(shape=(None,INPUT_DIM), name=\"GPU_\"+str(i)+\"_sequences\")\n",
    "            columns = keras.Input(shape=(INPUT_DIM), name=\"GPU_\"+str(i)+\"_in_columns\")\n",
    "            input_dict = {  \"sequences\" : sequences,\n",
    "                            \"in_columns\" : columns }\n",
    "            out_cols, A = neuroalign(input_dict)\n",
    "            outputs.append(layers.Lambda(lambda x: x, name=\"GPU_\"+str(i)+\"_out_columns\")(out_cols))\n",
    "            outputs.append(layers.Lambda(lambda x: x, name=\"GPU_\"+str(i)+\"_out_attention\")(A))\n",
    "            inputs.extend([sequences, columns])\n",
    "\n",
    "    model = keras.Model(inputs=inputs, outputs=outputs)\n",
    "    for i, gpu in enumerate(GPUS):\n",
    "        losses_prefixed(losses, metrics, weights, \"GPU_\"+str(i)+\"_\")\n",
    "\n",
    "model.compile(loss=losses, optimizer=optimizer, metrics=metrics, loss_weights=weights)\n",
    "    \n",
    "class ModelCheckpoint(keras.callbacks.Callback):\n",
    "    def on_epoch_end(self, epoch, logs=None):\n",
    "        neuroalign.save_weights(CHECKPOINT_PATH)\n",
    "        print(\"Saved model to \" + CHECKPOINT_PATH, flush=True)\n",
    "\n",
    "csv_logger = CSVLogger(MODEL_PATH + \"/log.csv\", append=True, separator=',')\n",
    "\n",
    "history = model.fit(train_gen,\n",
    "                    validation_data=val_gen,\n",
    "                    epochs = NUM_EPOCHS,\n",
    "                    verbose = 1,\n",
    "                    callbacks=[ModelCheckpoint(), csv_logger])"
   ]
  },
  {
   "cell_type": "code",
   "execution_count": null,
   "metadata": {},
   "outputs": [],
   "source": []
  }
 ],
 "metadata": {
  "kernelspec": {
   "display_name": "Python 3",
   "language": "python",
   "name": "python3"
  },
  "language_info": {
   "codemirror_mode": {
    "name": "ipython",
    "version": 3
   },
   "file_extension": ".py",
   "mimetype": "text/x-python",
   "name": "python",
   "nbconvert_exporter": "python",
   "pygments_lexer": "ipython3",
   "version": "3.8.6"
  }
 },
 "nbformat": 4,
 "nbformat_minor": 4
}
