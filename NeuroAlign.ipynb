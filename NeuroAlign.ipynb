{
 "cells": [
  {
   "cell_type": "markdown",
   "metadata": {},
   "source": [
    "## NeuroAlign - Inference\n",
    "\n",
    "This notebook can be used to predict alignments from fasta files of unaligned sequences using a pretrained NeuroAlign model.\n",
    "\n",
    "NeuroAlign is a deep learning based end-to-end model that is able to construct multiple sequence alignments / representations of\n",
    "protein families by learning from datasets of reference alignments. Our model maps raw sequences\n",
    "\\- for instance over the standard aminoacid alphabet but not limited to that \\- to a soft alignment represented by a probablity distribution for each residuum over a (dynamically sized) sequence of alignment columns (the consensus). NeuroAlign can also output representation vectors for the alignment columns which encode the respective distribution of aminoacids and which can be useful for higher level learning tasks.\n",
    "\n",
    "The weight files provided with this notebook are trained on Pfam. We used all 18259 protein families available at the time of our access, but only their respective seed alignments.\n",
    "\n",
    "### Requirements\n",
    "\n",
    "This notebook requires tensorflow (2.1 or higher) and matplotlib. Other than that, it is self-contained. \n",
    "\n",
    "Model weight files are provided with github under ./models.\n",
    "\n",
    "If a GPU is present, the notebook will automatically attempt to use it. The base model (./models/base) requires at least 7GBs of GPU memory. \n",
    "To force a CPU run, the following flag must be set to True. "
   ]
  },
  {
   "cell_type": "code",
   "execution_count": null,
   "metadata": {},
   "outputs": [],
   "source": [
    "IGNORE_GPU = False "
   ]
  },
  {
   "cell_type": "markdown",
   "metadata": {},
   "source": [
    "## Setting up the model\n",
    "\n",
    "We provide configurated and pretrained \"out of the box\" models. All what has to be done is to load a model using its identifier."
   ]
  },
  {
   "cell_type": "code",
   "execution_count": 2,
   "metadata": {},
   "outputs": [
    {
     "name": "stdout",
     "output_type": "stream",
     "text": [
      "Successfully loaded weights: base model\n"
     ]
    }
   ],
   "source": [
    "import Model as model\n",
    "\n",
    "neuroalign, neuroalign_config = model.make_neuro_align_model(\"base\")"
   ]
  },
  {
   "cell_type": "markdown",
   "metadata": {},
   "source": [
    "## Loading a fasta file\n",
    "NeuroAlign operates on raw sequences of aminoacids in fasta file format. Sequences can come in any number and order. The model is inherently invariant to permuntations of the sequences. For large numbers of sequences, GPU memory might overflow (TODO suggest numbers). Disabling GPU and running on CPU can fix this.\n",
    "\n",
    "We use a custom Fasta object to parse a file. Afterwards, we convert to a numeric \"one-hot\" format which can be passed to the NeuroAlign model."
   ]
  },
  {
   "cell_type": "code",
   "execution_count": 3,
   "metadata": {},
   "outputs": [
    {
     "name": "stdout",
     "output_type": "stream",
     "text": [
      "Successfully loaded file: ./data/BB11001.fasta\n"
     ]
    }
   ],
   "source": [
    "import sys\n",
    "import Data as data\n",
    "\n",
    "#######################################################################################\n",
    "################ you may modify these variables to test NeuroAlign ####################\n",
    "#######################################################################################\n",
    "\n",
    "file = \"./data/BB11001.fasta\"\n",
    "\n",
    "# set this to True, if the fasta file is already aligned \n",
    "# i.e. it contains gap symbols and all sequences have the same length\n",
    "# if True, the gap symbols will be automatically stripped away before inference and will\n",
    "# only be used for evaluating the model output\n",
    "# if False, the model will just compute its output and skip all evaluation\n",
    "has_gaps = True \n",
    "\n",
    "#######################################################################################\n",
    "#######################################################################################\n",
    "#######################################################################################\n",
    "\n",
    "fasta_file = data.Fasta(file, gaps = has_gaps, contains_lower_case = True)\n",
    "\n",
    "if not fasta_file.valid:\n",
    "    sys.exit(\"Invalid fasta file.\")\n",
    "\n",
    "selected_sequences = list(range(len(fasta_file.raw_seq))) #all and in order\n",
    "if has_gaps:\n",
    "    input_dict, target_dict = data.get_input_target_data(fasta_file, selected_sequences, neuroalign_config)\n",
    "else:\n",
    "    seq = fasta_file.one_hot_sequences(selected_sequences)\n",
    "    input_dict = {\"sequences\" : seq}\n",
    "    \n",
    "print(\"Successfully loaded file:\", file)"
   ]
  },
  {
   "cell_type": "markdown",
   "metadata": {},
   "source": [
    "NeuroAlign is an autoregressive model that predicts a consensus sequence of columns one at a time. Its decision for the aminoacid distribution of a column is based on all sequences and all previously predicted columns. Inference internally starts with a consensus consisting only of a special \"column start\" marker. It is then rolled out autoregressively in order to generate columns until a \"column end\" marker is predicted or a maximal length (default 1000) is reached.\n",
    "\n",
    "We provide a method for generating the columns this way."
   ]
  },
  {
   "cell_type": "code",
   "execution_count": 4,
   "metadata": {},
   "outputs": [
    {
     "name": "stdout",
     "output_type": "stream",
     "text": [
      "Prediction run on file ./data/BB11001.fasta with 4 sequences of average length 86.25 .\n",
      "Predicted a soft alignment with 98 columns.\n",
      "The reference has 96 columns.\n"
     ]
    }
   ],
   "source": [
    "# generates a 2D tensor \"column_distributions\" with shape [num_columns, alphabet_size]\n",
    "# and a 3D tensor \"attention_weights\" with shape [num_seq, len_seq, num_cols]\n",
    "column_distributions, attention_weights = model.gen_columns(input_dict, neuroalign, neuroalign_config)\n",
    "\n",
    "print(\"Prediction run on file\", fasta_file.filename, \"with\", len(fasta_file.raw_seq), \n",
    "      \"sequences of average length\", sum(fasta_file.seq_lens) / len(fasta_file.raw_seq), \".\")\n",
    "print(\"Predicted a soft alignment with\", column_distributions.shape[0], \"columns.\")\n",
    "if has_gaps:\n",
    "    print(\"The reference has\", fasta_file.alignment_len, \"columns.\")"
   ]
  },
  {
   "cell_type": "markdown",
   "metadata": {},
   "source": [
    "## Evaluation\n",
    "\n",
    "So far, a soft alignment was predicted and we seek to evaluate it. NeuroAlign uses an attention mechanism that measures the degree of importance of a residuum to a particular column. A good way to visualize the prediction is to plot the attention weights (which can be interpreted as a probability distribution per residuum over all columns). This way, ee can make a visual comparison of the reference alignment with the predicted attention scores. \n",
    "\n",
    "Furthermore, we need a way to evaluate the models performance in terms of numeric metrics. To that end, we compute precision and recall for all binary variables \"residuum X and residuum Y are aligned\"."
   ]
  },
  {
   "cell_type": "code",
   "execution_count": 5,
   "metadata": {},
   "outputs": [
    {
     "name": "stdout",
     "output_type": "stream",
     "text": [
      "alignment precision:  0.40278918\n",
      "alignment recall:  0.36834207\n",
      "alignment precision (teacher forced):  0.9816794\n",
      "alignment recall (teacher forced):  0.9647412\n"
     ]
    },
    {
     "data": {
      "image/png": "[encoded data removed]",
      "text/plain": [
       "<Figure size 1152x1008 with 12 Axes>"
      ]
     },
     "metadata": {
      "needs_background": "light"
     },
     "output_type": "display_data"
    }
   ],
   "source": [
    "import Evaluation as evl\n",
    "\n",
    "#for comparison compute the output with teacher forcing enabled\n",
    "#i.e. when predicting column i the model knowns how reference columns 1...i-1 look like\n",
    "_, teacher_forced_attention_weights = neuroalign(input_dict)\n",
    "\n",
    "evl.plot_memberships(target_dict[\"out_attention\"], [attention_weights,teacher_forced_attention_weights], [\"Output\", \"Teacher forced output\"])\n",
    "\n",
    "#we ignore the first sequence symbol which is internally used as a \"gap dummy\"\n",
    "#and the first columns, which is the \"column start\" marker\n",
    "p = evl.precision(target_dict[\"out_attention\"], attention_weights).numpy()\n",
    "r = evl.recall(target_dict[\"out_attention\"], attention_weights).numpy()\n",
    "\n",
    "print(\"alignment precision: \", p)\n",
    "print(\"alignment recall: \", r)\n",
    "\n",
    "\n",
    "p = evl.precision(target_dict[\"out_attention\"], teacher_forced_attention_weights).numpy()\n",
    "r = evl.recall(target_dict[\"out_attention\"], teacher_forced_attention_weights).numpy()\n",
    "\n",
    "print(\"alignment precision (teacher forced): \", p)\n",
    "print(\"alignment recall (teacher forced): \", r)"
   ]
  },
  {
   "cell_type": "markdown",
   "metadata": {},
   "source": [
    "We have ways to ensure the quality of the predicted soft alignment. However, we have no direct and simple way of constructing a complete alignment based on the attention matrix (that is, generating sequences with gap symbols and writing them to an output file)."
   ]
  },
  {
   "cell_type": "code",
   "execution_count": null,
   "metadata": {},
   "outputs": [],
   "source": []
  }
 ],
 "metadata": {
  "kernelspec": {
   "display_name": "Python 3",
   "language": "python",
   "name": "python3"
  },
  "language_info": {
   "codemirror_mode": {
    "name": "ipython",
    "version": 3
   },
   "file_extension": ".py",
   "mimetype": "text/x-python",
   "name": "python",
   "nbconvert_exporter": "python",
   "pygments_lexer": "ipython3",
   "version": "3.8.6"
  }
 },
 "nbformat": 4,
 "nbformat_minor": 4
}
