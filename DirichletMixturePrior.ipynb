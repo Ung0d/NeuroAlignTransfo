{
 "cells": [
  {
   "cell_type": "markdown",
   "metadata": {},
   "source": [
    "## Dirichlet Mixture Prior for NeuroAlign\n",
    "\n",
    "#### Problems: \n",
    "- The true probability distribution of a column is only poorly estimated by the relative frequencies $\\frac{n_i}{n}$ where $n_i$ is the count of amino acid $i$ and $n=\\sum_i n_i$, especially if $n$ is small (which is the case when training NeuroAlign due to hardware constraints). \n",
    "- If each column predicts its own amino acid distribution, beam search (commonly done in natural language processing) can not be applied when doing autoregressive inference since the output is not expected to agree on a single class (or amino acid).\n",
    "\n",
    "#### Remedy:\n",
    "\n",
    "Model the amino acid distribution of each column by a mixture of Dirichlets (Using Dirichlet mixture priors to derive hidden Markov models for protein families, Brown et al., 1993) i.e. a distribution of the form:\n",
    "\n",
    "$$q_1 P_1 \\dots q_k P_k$$\n",
    "\n",
    "where $P_j$ are Dirichlet densities and $q_j$ are mixture coefficients that sum to 1.\n",
    "\n",
    "Intuitively this models $k$ \"fundamental\" amino acid distributions such that an observed count vector of amino acids for a column is very likely obtained from one (or a few) of these distributions. This means we can soft cluster a column to the components of the Dirichlet mixture (i.e. which component(s) are most probably the ground truth of the observed counts). An amino acid count vector can also be converted to a posterior probability distribution over the amino acid alphabet given the counts. \n",
    "\n",
    "This framework solves the first problem mentioned above. It also has potential to solve the second one:\n",
    "\n",
    "Assume NeuroAlign predicts an alignment column given sequences and previously predicted columns, i.e. $P(C_i | S, C_{i-1}, \\dots, C_1)$. Especially the prediction of the very first column is crutial. Ideally, to implement something like beam search, we would like to have some candidates for the next column together with probabilities instead of a single prediction of a distribution. Brainstorming:\n",
    "\n",
    "- Maybe the Dirichlet mixture can be used to soft cluster a predicted column to the components of the mixture. Then the underlying distributions of the $m$ most likely components given the predicted column can provide candidates for a beam search.\n",
    "\n",
    "- The model could be rewritten such that it predicts a distribution over $k$ instead of the amino acids. This way, the output can be interpreted as a vote for the mixture components. Candidate predictions for a column can be obtained by tracking the $m$ most probable components according to the model."
   ]
  },
  {
   "cell_type": "code",
   "execution_count": 1,
   "metadata": {},
   "outputs": [
    {
     "name": "stdout",
     "output_type": "stream",
     "text": [
      "Requirement already satisfied: tensorflow_probability==0.11.0 in /opt/conda/lib/python3.8/site-packages (0.11.0)\n",
      "Requirement already satisfied: numpy>=1.13.3 in /opt/conda/lib/python3.8/site-packages (from tensorflow_probability==0.11.0) (1.18.5)\n",
      "Requirement already satisfied: dm-tree in /opt/conda/lib/python3.8/site-packages (from tensorflow_probability==0.11.0) (0.1.5)\n",
      "Requirement already satisfied: gast>=0.3.2 in /opt/conda/lib/python3.8/site-packages (from tensorflow_probability==0.11.0) (0.3.3)\n",
      "Requirement already satisfied: cloudpickle==1.3 in /opt/conda/lib/python3.8/site-packages (from tensorflow_probability==0.11.0) (1.3.0)\n",
      "Requirement already satisfied: six>=1.10.0 in /opt/conda/lib/python3.8/site-packages (from tensorflow_probability==0.11.0) (1.15.0)\n",
      "Requirement already satisfied: decorator in /opt/conda/lib/python3.8/site-packages (from tensorflow_probability==0.11.0) (4.4.2)\n"
     ]
    }
   ],
   "source": [
    "# uncomment below when using tf 2.3  \n",
    "import sys\n",
    "!{sys.executable} -m pip install tensorflow_probability==0.11.0\n",
    "\n",
    "# uncomment below when using tf 2.4 \n",
    "#import sys\n",
    "#!{sys.executable} -m pip install tensorflow_probability\n",
    "\n",
    "import numpy as np\n",
    "import matplotlib.pyplot as plt\n",
    "import tensorflow as tf\n",
    "import tensorflow_probability as tfp\n",
    "from tensorflow import keras\n",
    "from tensorflow.keras import layers"
   ]
  },
  {
   "cell_type": "markdown",
   "metadata": {},
   "source": [
    "A Dirichlet mixture prior is has (alphabet_size + 1) * $k$ parameters. Each of the $k$ components has one parameter for each symbol in the alphabet and one additional mixture coefficient. \n",
    "\n",
    "Thus, let $\\mathcal{A}$ be a finite alphabet. Let $\\alpha$ be a $k \\times |\\mathcal{A}|$ matrix and $q$ a vector of length $k$.\n",
    "\n",
    "Below, we use a pretrained mixture (https://compbio.soe.ucsc.edu/dirichlets/dist.20comp) with $k=20$ components. "
   ]
  },
  {
   "cell_type": "code",
   "execution_count": 2,
   "metadata": {},
   "outputs": [
    {
     "name": "stdout",
     "output_type": "stream",
     "text": [
      "(13,)\n",
      "(13, 20)\n"
     ]
    }
   ],
   "source": [
    "ALPHABET = \"A C D E F G H I K L M N P Q R S T V W Y\".split()\n",
    "\n",
    "q = []\n",
    "alpha = []\n",
    "\n",
    "k = 20\n",
    "\n",
    "with open(\"dirichlet_20comp.txt\", \"r\") as file:\n",
    "    content = file.readlines()\n",
    "    for line in content:\n",
    "        if line[:8] == \"Mixture=\":\n",
    "            q.append(float(line[9:]))\n",
    "        elif line[:6] == \"Alpha=\":\n",
    "            alpha.append([float(a) for a in line[7:].split()][1:])\n",
    "\n",
    "q = np.array(q, dtype=np.float32) \n",
    "alpha = np.array(alpha, dtype=np.float32) \n",
    "\n",
    "print(q.shape) # k\n",
    "print(alpha.shape) # k x len(alphabet)"
   ]
  },
  {
   "cell_type": "markdown",
   "metadata": {},
   "source": [
    "Given a Dirichlet mixture prior, we can implement some useful methods.\n",
    "\n",
    "Let $c$ be a count vector of a column i.e. $c_i$ is the observed count of the $i$-th amino acid. Let $|c|=\\sum_i c_i$.\n",
    "\n",
    "First we use the implementation of <code>tfp.distributions.DirichletMultinomial</code> to obtain the probability of each count vector given the $k$-th component distribution $P(c \\mid P_k, |c|)$, namely the probability of observing $c$ after drawing $|c|$ times from $P_k$.\n",
    "\n",
    "Then we get posterior component probabilities $P(j\\mid c)$ for components $j = 1,\\dots,k$ by\n",
    "\n",
    "$$P(j|c) = \\frac{q_j P(c \\mid P_j, |c|)}{\\sum_l q_l P(c \\mid P_l, |c|)} $$\n",
    "\n",
    "And the posterior amino acid probabilities $\\hat{p}_i$ given $c$:\n",
    "\n",
    "$$\\hat{p}_i = \\frac{1}{Z} (\\sum_{j=1}^k P(j|c) \\frac{c_i + \\alpha_{j,i}}{|c| + \\alpha_j})$$\n",
    "\n",
    "with $Z$ such that $\\sum_i \\hat{p}_i = 1$.\n",
    "\n",
    "Formulas are from the papers \"Using Dirichlet mixture priors to derive hidden Markov models for protein families\" (Brown et al., 1993) and \"Dirichlet mixtures: a method for improveddetection of weak but significant protein sequence homology\" (Sjölander et al., 1996). Attention: the latter paper corrected the formula for $\\hat{p}_i$ published in the former paper."
   ]
  },
  {
   "cell_type": "code",
   "execution_count": 3,
   "metadata": {},
   "outputs": [
    {
     "name": "stdout",
     "output_type": "stream",
     "text": [
      "tf.Tensor(\n",
      "[[2.67390937e-26 9.38468877e-28 1.53939796e-25 5.08921435e-25\n",
      "  2.91164135e-17 4.46045234e-31 5.36978949e-25 0.00000000e+00\n",
      "  0.00000000e+00 4.85688722e-24 0.00000000e+00 6.72367102e-18\n",
      "  4.60510283e-29]\n",
      " [1.30995134e-28 1.12326436e-27 1.24323612e-27 1.33828404e-25\n",
      "  3.59984164e-18 2.73441997e-32 4.23364700e-26 0.00000000e+00\n",
      "  0.00000000e+00 8.44148160e-26 0.00000000e+00 1.01161625e-18\n",
      "  7.33652475e-25]\n",
      " [3.51865293e-25 4.23265976e-27 4.66985836e-25 8.24770485e-24\n",
      "  6.62676028e-17 4.36774791e-29 1.99861300e-26 8.95519458e-38\n",
      "  0.00000000e+00 3.87733497e-23 0.00000000e+00 1.42972857e-19\n",
      "  7.90116323e-28]\n",
      " [1.01649735e-27 9.95778906e-30 4.90154527e-29 3.13097414e-26\n",
      "  3.47181145e-19 1.09622210e-29 6.59009412e-28 0.00000000e+00\n",
      "  0.00000000e+00 3.22096098e-26 0.00000000e+00 1.96019510e-19\n",
      "  3.43602039e-30]\n",
      " [2.67186608e-29 2.57626112e-29 1.03800999e-27 9.52077998e-27\n",
      "  3.75130544e-18 8.41829361e-34 7.12564516e-28 0.00000000e+00\n",
      "  0.00000000e+00 1.23698224e-27 0.00000000e+00 4.26131625e-21\n",
      "  9.46834662e-32]\n",
      " [3.72036148e-28 9.76098490e-29 1.66073613e-27 5.86724419e-25\n",
      "  2.94106548e-18 1.23314335e-33 1.78241072e-26 0.00000000e+00\n",
      "  0.00000000e+00 4.62112138e-27 0.00000000e+00 1.75859632e-19\n",
      "  1.25123202e-30]\n",
      " [5.14574856e-25 1.15304493e-23 1.45337051e-24 3.01422805e-23\n",
      "  8.33770066e-17 1.40965813e-27 5.01727517e-25 3.59580092e-36\n",
      "  2.62733444e-36 1.31842710e-23 9.07071538e-38 3.39023541e-19\n",
      "  3.64269864e-22]], shape=(7, 13), dtype=float32)\n",
      "tf.Tensor(\n",
      "[[0.0000000e+00 0.0000000e+00 0.0000000e+00 0.0000000e+00 1.4441739e-32\n",
      "  0.0000000e+00 0.0000000e+00 0.0000000e+00 0.0000000e+00 0.0000000e+00\n",
      "  0.0000000e+00 0.0000000e+00 0.0000000e+00]], shape=(1, 13), dtype=float32)\n",
      "tf.Tensor(\n",
      "[4.6104353e-02 1.5848631e-03 1.8343479e-04 2.4377560e-04 6.3360110e-03\n",
      " 3.1478680e-03 1.9116139e-03 1.0338303e-02 1.6861359e-03 2.3739621e-01\n",
      " 1.5712310e-01 2.7454301e-04 2.5861304e-02 1.2580298e-01 1.7373021e-03\n",
      " 6.0645868e-03 4.1721020e-02 6.1553973e-03 1.3004819e-02 3.1332242e-01], shape=(20,), dtype=float32)\n"
     ]
    }
   ],
   "source": [
    "class DirichletMixturePrior():\n",
    "    def __init__(self, q, alpha):\n",
    "        super(DirichletMixturePrior, self).__init__()\n",
    "        # Dirichlet parameters > 0\n",
    "        self.alpha = tf.constant(alpha)\n",
    "        \n",
    "        # mixture coefficients that sum to 1\n",
    "        self.q = tf.constant(q)\n",
    "        \n",
    "\n",
    "    # in: n x alphabet_size count vectors \n",
    "    # out: n x k posterior probabilty distribution P(k | count)\n",
    "    def posterior_component_prob(self, counts):\n",
    "        \n",
    "        #how many observed amino acids per column\n",
    "        total_counts = tf.reduce_sum(counts, axis=-1, keepdims=True)\n",
    "        \n",
    "        #expand to allow broadcasting to shape n x k x alphabet_size\n",
    "        alpha = tf.expand_dims(self.alpha,0)\n",
    "        counts = tf.expand_dims(counts, 1)\n",
    "        \n",
    "        #obtain probabilities P(count | p_k) \n",
    "        dist = tfp.distributions.DirichletMultinomial(total_counts, alpha)\n",
    "        probs = dist.prob(counts) #shape n x k\n",
    "        \n",
    "        print(probs)\n",
    "        \n",
    "        #obtain P(component | count) via P(count | p_k) and the mix coefficients\n",
    "        mix_probs = tf.expand_dims(self.q,0) * probs\n",
    "        return mix_probs / tf.reduce_sum(mix_probs, axis=-1, keepdims=True)\n",
    "\n",
    "    \n",
    "    # in: n x alphabet_size count vectors \n",
    "    #     output of self.posterior_component_prob(count vectors)\n",
    "    # out: n x alphabet_size posterior amino acid probabilty distributions\n",
    "    def posterior_amino_acid_prob(self, counts, posterior_component_prob):\n",
    "        \n",
    "        counts = tf.expand_dims(counts, 1)\n",
    "        alpha = tf.expand_dims(self.alpha, 0)\n",
    "        total_counts = tf.reduce_sum(counts, axis=-1, keepdims=True)\n",
    "        total_alpha = tf.reduce_sum(alpha, axis=-1, keepdims=True)\n",
    "        pseudo_counts = (counts + alpha) / (total_counts + total_alpha)\n",
    "        posterior_component_prob = tf.expand_dims(posterior_component_prob,1)\n",
    "        #the (batch-)matmul is a marginalization of the component dimension k\n",
    "        #shape posterior_component_prob : n x 1 x k\n",
    "        #shape pseudo_counts            : n x k x alphabet_size\n",
    "        probs_unnormalized = tf.matmul(posterior_component_prob, pseudo_counts) #shape n x 1 x alphabet_size\n",
    "        Z = tf.reduce_sum(probs_unnormalized, axis=-1, keepdims=True)\n",
    "        return tf.squeeze(probs_unnormalized / Z) #remove the 1-dimension\n",
    "    \n",
    "    \n",
    "    # out: amino acid distribution of the j's mixture component\n",
    "    def component_distributions(self):\n",
    "        return self.alpha / tf.reduce_sum(self.alpha, axis=-1, keepdims=True)\n",
    "\n",
    "\n",
    "dirichlet_mixture = DirichletMixturePrior(q, alpha)\n",
    "\n",
    "np.random.seed(33)\n",
    "tf.random.set_seed(33)\n",
    "\n",
    "# count vectors from a MSA\n",
    "n = 7\n",
    "samples = 30\n",
    "draws = tf.random.categorical([np.random.dirichlet(alpha[0]) for _ in range(n)], samples)\n",
    "counts = np.zeros((n, len(ALPHABET)), dtype=np.float32)\n",
    "for i in range(len(ALPHABET)):\n",
    "    counts[:,i] = np.sum(draws == i, axis=-1)\n",
    "\n",
    "posterior_component_prob = dirichlet_mixture.posterior_component_prob(counts)\n",
    "posterior_amino_acid_prob = dirichlet_mixture.posterior_amino_acid_prob(counts, posterior_component_prob)\n",
    "component_distributions = dirichlet_mixture.component_distributions()\n",
    "\n",
    "counts = [[ 32. ,  1. ,  0. ,  0.  , 4.  , 2.  , 1. ,  7. ,  1., 166. ,110. ,  0. , 18. , 88.,\n",
    "   1.  , 4. , 29. ,  4. ,  9., 219.]]\n",
    "\n",
    "posterior_component_prob = dirichlet_mixture.posterior_component_prob(counts)\n",
    "posterior_amino_acid_prob = dirichlet_mixture.posterior_amino_acid_prob(counts, posterior_component_prob)\n",
    "\n",
    "print(posterior_amino_acid_prob)"
   ]
  },
  {
   "cell_type": "markdown",
   "metadata": {},
   "source": [
    "Each component $j$ of the mixture is a Dirichlet distribution with concentrations $\\alpha_{j,1}, \\dots, \\alpha_{j,20} > 0$. Amino acid probabilities are then simply $\\frac{\\alpha_{j,i}}{\\alpha_{j}}$ with $\\alpha_{j}=\\sum_i \\alpha_{j,i}$."
   ]
  },
  {
   "cell_type": "code",
   "execution_count": 4,
   "metadata": {},
   "outputs": [
    {
     "ename": "InvalidArgumentError",
     "evalue": "slice index 9 of dimension 0 out of bounds. [Op:StridedSlice] name: strided_slice/",
     "output_type": "error",
     "traceback": [
      "\u001b[0;31m\u001b[0m",
      "\u001b[0;31mInvalidArgumentError\u001b[0mTraceback (most recent call last)",
      "\u001b[0;32m<ipython-input-4-430f34f22cf6>\u001b[0m in \u001b[0;36m<module>\u001b[0;34m\u001b[0m\n\u001b[1;32m     10\u001b[0m     \u001b[0;32mfor\u001b[0m \u001b[0mj\u001b[0m\u001b[0;34m,\u001b[0m\u001b[0ma\u001b[0m \u001b[0;32min\u001b[0m \u001b[0menumerate\u001b[0m\u001b[0;34m(\u001b[0m\u001b[0max\u001b[0m\u001b[0;34m)\u001b[0m\u001b[0;34m:\u001b[0m\u001b[0;34m\u001b[0m\u001b[0;34m\u001b[0m\u001b[0m\n\u001b[1;32m     11\u001b[0m         \u001b[0;31m#a.set_ylim((0,1))\u001b[0m\u001b[0;34m\u001b[0m\u001b[0;34m\u001b[0m\u001b[0;34m\u001b[0m\u001b[0m\n\u001b[0;32m---> 12\u001b[0;31m         \u001b[0ma\u001b[0m\u001b[0;34m.\u001b[0m\u001b[0mbar\u001b[0m\u001b[0;34m(\u001b[0m\u001b[0mALPHABET\u001b[0m\u001b[0;34m,\u001b[0m \u001b[0mcomponent_distributions\u001b[0m\u001b[0;34m[\u001b[0m\u001b[0mi\u001b[0m\u001b[0;34m*\u001b[0m\u001b[0mnum_cols\u001b[0m\u001b[0;34m+\u001b[0m\u001b[0mj\u001b[0m\u001b[0;34m]\u001b[0m\u001b[0;34m)\u001b[0m\u001b[0;34m\u001b[0m\u001b[0;34m\u001b[0m\u001b[0m\n\u001b[0m\u001b[1;32m     13\u001b[0m         \u001b[0ma\u001b[0m\u001b[0;34m.\u001b[0m\u001b[0mset_title\u001b[0m\u001b[0;34m(\u001b[0m\u001b[0;34m\"component \"\u001b[0m\u001b[0;34m+\u001b[0m\u001b[0mstr\u001b[0m\u001b[0;34m(\u001b[0m\u001b[0mi\u001b[0m\u001b[0;34m*\u001b[0m\u001b[0mnum_cols\u001b[0m\u001b[0;34m+\u001b[0m\u001b[0mj\u001b[0m\u001b[0;34m+\u001b[0m\u001b[0;36m1\u001b[0m\u001b[0;34m)\u001b[0m\u001b[0;34m)\u001b[0m\u001b[0;34m\u001b[0m\u001b[0;34m\u001b[0m\u001b[0m\n\u001b[1;32m     14\u001b[0m \u001b[0;34m\u001b[0m\u001b[0m\n",
      "\u001b[0;32m/opt/conda/lib/python3.8/site-packages/tensorflow/python/util/dispatch.py\u001b[0m in \u001b[0;36mwrapper\u001b[0;34m(*args, **kwargs)\u001b[0m\n\u001b[1;32m    199\u001b[0m     \u001b[0;34m\"\"\"Call target, and fall back on dispatchers if there is a TypeError.\"\"\"\u001b[0m\u001b[0;34m\u001b[0m\u001b[0;34m\u001b[0m\u001b[0m\n\u001b[1;32m    200\u001b[0m     \u001b[0;32mtry\u001b[0m\u001b[0;34m:\u001b[0m\u001b[0;34m\u001b[0m\u001b[0;34m\u001b[0m\u001b[0m\n\u001b[0;32m--> 201\u001b[0;31m       \u001b[0;32mreturn\u001b[0m \u001b[0mtarget\u001b[0m\u001b[0;34m(\u001b[0m\u001b[0;34m*\u001b[0m\u001b[0margs\u001b[0m\u001b[0;34m,\u001b[0m \u001b[0;34m**\u001b[0m\u001b[0mkwargs\u001b[0m\u001b[0;34m)\u001b[0m\u001b[0;34m\u001b[0m\u001b[0;34m\u001b[0m\u001b[0m\n\u001b[0m\u001b[1;32m    202\u001b[0m     \u001b[0;32mexcept\u001b[0m \u001b[0;34m(\u001b[0m\u001b[0mTypeError\u001b[0m\u001b[0;34m,\u001b[0m \u001b[0mValueError\u001b[0m\u001b[0;34m)\u001b[0m\u001b[0;34m:\u001b[0m\u001b[0;34m\u001b[0m\u001b[0;34m\u001b[0m\u001b[0m\n\u001b[1;32m    203\u001b[0m       \u001b[0;31m# Note: convert_to_eager_tensor currently raises a ValueError, not a\u001b[0m\u001b[0;34m\u001b[0m\u001b[0;34m\u001b[0m\u001b[0;34m\u001b[0m\u001b[0m\n",
      "\u001b[0;32m/opt/conda/lib/python3.8/site-packages/tensorflow/python/ops/array_ops.py\u001b[0m in \u001b[0;36m_slice_helper\u001b[0;34m(tensor, slice_spec, var)\u001b[0m\n\u001b[1;32m   1011\u001b[0m       \u001b[0mvar_empty\u001b[0m \u001b[0;34m=\u001b[0m \u001b[0mconstant\u001b[0m\u001b[0;34m(\u001b[0m\u001b[0;34m[\u001b[0m\u001b[0;34m]\u001b[0m\u001b[0;34m,\u001b[0m \u001b[0mdtype\u001b[0m\u001b[0;34m=\u001b[0m\u001b[0mdtypes\u001b[0m\u001b[0;34m.\u001b[0m\u001b[0mint32\u001b[0m\u001b[0;34m)\u001b[0m\u001b[0;34m\u001b[0m\u001b[0;34m\u001b[0m\u001b[0m\n\u001b[1;32m   1012\u001b[0m       \u001b[0mpacked_begin\u001b[0m \u001b[0;34m=\u001b[0m \u001b[0mpacked_end\u001b[0m \u001b[0;34m=\u001b[0m \u001b[0mpacked_strides\u001b[0m \u001b[0;34m=\u001b[0m \u001b[0mvar_empty\u001b[0m\u001b[0;34m\u001b[0m\u001b[0;34m\u001b[0m\u001b[0m\n\u001b[0;32m-> 1013\u001b[0;31m     return strided_slice(\n\u001b[0m\u001b[1;32m   1014\u001b[0m         \u001b[0mtensor\u001b[0m\u001b[0;34m,\u001b[0m\u001b[0;34m\u001b[0m\u001b[0;34m\u001b[0m\u001b[0m\n\u001b[1;32m   1015\u001b[0m         \u001b[0mpacked_begin\u001b[0m\u001b[0;34m,\u001b[0m\u001b[0;34m\u001b[0m\u001b[0;34m\u001b[0m\u001b[0m\n",
      "\u001b[0;32m/opt/conda/lib/python3.8/site-packages/tensorflow/python/util/dispatch.py\u001b[0m in \u001b[0;36mwrapper\u001b[0;34m(*args, **kwargs)\u001b[0m\n\u001b[1;32m    199\u001b[0m     \u001b[0;34m\"\"\"Call target, and fall back on dispatchers if there is a TypeError.\"\"\"\u001b[0m\u001b[0;34m\u001b[0m\u001b[0;34m\u001b[0m\u001b[0m\n\u001b[1;32m    200\u001b[0m     \u001b[0;32mtry\u001b[0m\u001b[0;34m:\u001b[0m\u001b[0;34m\u001b[0m\u001b[0;34m\u001b[0m\u001b[0m\n\u001b[0;32m--> 201\u001b[0;31m       \u001b[0;32mreturn\u001b[0m \u001b[0mtarget\u001b[0m\u001b[0;34m(\u001b[0m\u001b[0;34m*\u001b[0m\u001b[0margs\u001b[0m\u001b[0;34m,\u001b[0m \u001b[0;34m**\u001b[0m\u001b[0mkwargs\u001b[0m\u001b[0;34m)\u001b[0m\u001b[0;34m\u001b[0m\u001b[0;34m\u001b[0m\u001b[0m\n\u001b[0m\u001b[1;32m    202\u001b[0m     \u001b[0;32mexcept\u001b[0m \u001b[0;34m(\u001b[0m\u001b[0mTypeError\u001b[0m\u001b[0;34m,\u001b[0m \u001b[0mValueError\u001b[0m\u001b[0;34m)\u001b[0m\u001b[0;34m:\u001b[0m\u001b[0;34m\u001b[0m\u001b[0;34m\u001b[0m\u001b[0m\n\u001b[1;32m    203\u001b[0m       \u001b[0;31m# Note: convert_to_eager_tensor currently raises a ValueError, not a\u001b[0m\u001b[0;34m\u001b[0m\u001b[0;34m\u001b[0m\u001b[0;34m\u001b[0m\u001b[0m\n",
      "\u001b[0;32m/opt/conda/lib/python3.8/site-packages/tensorflow/python/ops/array_ops.py\u001b[0m in \u001b[0;36mstrided_slice\u001b[0;34m(input_, begin, end, strides, begin_mask, end_mask, ellipsis_mask, new_axis_mask, shrink_axis_mask, var, name)\u001b[0m\n\u001b[1;32m   1184\u001b[0m     \u001b[0mstrides\u001b[0m \u001b[0;34m=\u001b[0m \u001b[0mones_like\u001b[0m\u001b[0;34m(\u001b[0m\u001b[0mbegin\u001b[0m\u001b[0;34m)\u001b[0m\u001b[0;34m\u001b[0m\u001b[0;34m\u001b[0m\u001b[0m\n\u001b[1;32m   1185\u001b[0m \u001b[0;34m\u001b[0m\u001b[0m\n\u001b[0;32m-> 1186\u001b[0;31m   op = gen_array_ops.strided_slice(\n\u001b[0m\u001b[1;32m   1187\u001b[0m       \u001b[0minput\u001b[0m\u001b[0;34m=\u001b[0m\u001b[0minput_\u001b[0m\u001b[0;34m,\u001b[0m\u001b[0;34m\u001b[0m\u001b[0;34m\u001b[0m\u001b[0m\n\u001b[1;32m   1188\u001b[0m       \u001b[0mbegin\u001b[0m\u001b[0;34m=\u001b[0m\u001b[0mbegin\u001b[0m\u001b[0;34m,\u001b[0m\u001b[0;34m\u001b[0m\u001b[0;34m\u001b[0m\u001b[0m\n",
      "\u001b[0;32m/opt/conda/lib/python3.8/site-packages/tensorflow/python/ops/gen_array_ops.py\u001b[0m in \u001b[0;36mstrided_slice\u001b[0;34m(input, begin, end, strides, begin_mask, end_mask, ellipsis_mask, new_axis_mask, shrink_axis_mask, name)\u001b[0m\n\u001b[1;32m  10318\u001b[0m       \u001b[0;32mreturn\u001b[0m \u001b[0m_result\u001b[0m\u001b[0;34m\u001b[0m\u001b[0;34m\u001b[0m\u001b[0m\n\u001b[1;32m  10319\u001b[0m     \u001b[0;32mexcept\u001b[0m \u001b[0m_core\u001b[0m\u001b[0;34m.\u001b[0m\u001b[0m_NotOkStatusException\u001b[0m \u001b[0;32mas\u001b[0m \u001b[0me\u001b[0m\u001b[0;34m:\u001b[0m\u001b[0;34m\u001b[0m\u001b[0;34m\u001b[0m\u001b[0m\n\u001b[0;32m> 10320\u001b[0;31m       \u001b[0m_ops\u001b[0m\u001b[0;34m.\u001b[0m\u001b[0mraise_from_not_ok_status\u001b[0m\u001b[0;34m(\u001b[0m\u001b[0me\u001b[0m\u001b[0;34m,\u001b[0m \u001b[0mname\u001b[0m\u001b[0;34m)\u001b[0m\u001b[0;34m\u001b[0m\u001b[0;34m\u001b[0m\u001b[0m\n\u001b[0m\u001b[1;32m  10321\u001b[0m     \u001b[0;32mexcept\u001b[0m \u001b[0m_core\u001b[0m\u001b[0;34m.\u001b[0m\u001b[0m_FallbackException\u001b[0m\u001b[0;34m:\u001b[0m\u001b[0;34m\u001b[0m\u001b[0;34m\u001b[0m\u001b[0m\n\u001b[1;32m  10322\u001b[0m       \u001b[0;32mpass\u001b[0m\u001b[0;34m\u001b[0m\u001b[0;34m\u001b[0m\u001b[0m\n",
      "\u001b[0;32m/opt/conda/lib/python3.8/site-packages/tensorflow/python/framework/ops.py\u001b[0m in \u001b[0;36mraise_from_not_ok_status\u001b[0;34m(e, name)\u001b[0m\n\u001b[1;32m   6841\u001b[0m   \u001b[0mmessage\u001b[0m \u001b[0;34m=\u001b[0m \u001b[0me\u001b[0m\u001b[0;34m.\u001b[0m\u001b[0mmessage\u001b[0m \u001b[0;34m+\u001b[0m \u001b[0;34m(\u001b[0m\u001b[0;34m\" name: \"\u001b[0m \u001b[0;34m+\u001b[0m \u001b[0mname\u001b[0m \u001b[0;32mif\u001b[0m \u001b[0mname\u001b[0m \u001b[0;32mis\u001b[0m \u001b[0;32mnot\u001b[0m \u001b[0;32mNone\u001b[0m \u001b[0;32melse\u001b[0m \u001b[0;34m\"\"\u001b[0m\u001b[0;34m)\u001b[0m\u001b[0;34m\u001b[0m\u001b[0;34m\u001b[0m\u001b[0m\n\u001b[1;32m   6842\u001b[0m   \u001b[0;31m# pylint: disable=protected-access\u001b[0m\u001b[0;34m\u001b[0m\u001b[0;34m\u001b[0m\u001b[0;34m\u001b[0m\u001b[0m\n\u001b[0;32m-> 6843\u001b[0;31m   \u001b[0msix\u001b[0m\u001b[0;34m.\u001b[0m\u001b[0mraise_from\u001b[0m\u001b[0;34m(\u001b[0m\u001b[0mcore\u001b[0m\u001b[0;34m.\u001b[0m\u001b[0m_status_to_exception\u001b[0m\u001b[0;34m(\u001b[0m\u001b[0me\u001b[0m\u001b[0;34m.\u001b[0m\u001b[0mcode\u001b[0m\u001b[0;34m,\u001b[0m \u001b[0mmessage\u001b[0m\u001b[0;34m)\u001b[0m\u001b[0;34m,\u001b[0m \u001b[0;32mNone\u001b[0m\u001b[0;34m)\u001b[0m\u001b[0;34m\u001b[0m\u001b[0;34m\u001b[0m\u001b[0m\n\u001b[0m\u001b[1;32m   6844\u001b[0m   \u001b[0;31m# pylint: enable=protected-access\u001b[0m\u001b[0;34m\u001b[0m\u001b[0;34m\u001b[0m\u001b[0;34m\u001b[0m\u001b[0m\n\u001b[1;32m   6845\u001b[0m \u001b[0;34m\u001b[0m\u001b[0m\n",
      "\u001b[0;32m/opt/conda/lib/python3.8/site-packages/six.py\u001b[0m in \u001b[0;36mraise_from\u001b[0;34m(value, from_value)\u001b[0m\n",
      "\u001b[0;31mInvalidArgumentError\u001b[0m: slice index 9 of dimension 0 out of bounds. [Op:StridedSlice] name: strided_slice/"
     ]
    },
    {
     "data": {
      "image/png": "[encoded data removed]",
      "text/plain": [
       "<Figure size 1152x1584 with 20 Axes>"
      ]
     },
     "metadata": {
      "needs_background": "light"
     },
     "output_type": "display_data"
    }
   ],
   "source": [
    "import matplotlib.pyplot as plt\n",
    "\n",
    "plt.rcParams['figure.figsize'] = (16, 22)\n",
    "\n",
    "num_rows = 4\n",
    "num_cols = 5\n",
    "\n",
    "fig, axes = plt.subplots(num_rows, num_cols)\n",
    "for i,ax in enumerate(axes):\n",
    "    for j,a in enumerate(ax):\n",
    "        #a.set_ylim((0,1))\n",
    "        a.bar(ALPHABET, component_distributions[i*num_cols+j])\n",
    "        a.set_title(\"component \"+str(i*num_cols+j+1))\n",
    "\n",
    "plt.show()\n",
    "#plt.savefig(\"results/component_distributions.pdf\", bbox_inches='tight')"
   ]
  },
  {
   "cell_type": "markdown",
   "metadata": {},
   "source": [
    "The Dirichlet mixture can be used as a (soft) clustering of observed count vectors to the component distributions. The prior is very certain that the underlying distribution of the count vector below is component 1 (which was in fact used to sample it). This probability increases and decreases with the total count of observed residues (30 in this case) (i.e. the more data, the less influence the prior has)."
   ]
  },
  {
   "cell_type": "code",
   "execution_count": 5,
   "metadata": {},
   "outputs": [
    {
     "name": "stdout",
     "output_type": "stream",
     "text": [
      "Probabilities that underlying distribution of this count vector\n",
      "[2. 1. 1. 2. 3. 1. 1. 1. 1. 2. 2. 1. 2. 0. 0. 5. 2. 2. 0. 1.]\n",
      "with 30.0 residues observed\n",
      "corresponds to the j'th component of the mixture:\n",
      "[9.09440219e-01 1.03964489e-02 3.92426045e-05 3.32019578e-10\n",
      " 6.48063868e-02 2.67434484e-06 0.00000000e+00 7.50442972e-11\n",
      " 1.50524294e-02 8.38745691e-05 1.14684175e-04 1.92201699e-09\n",
      " 4.28698655e-14 6.39328719e-05 3.30529142e-13 2.54086552e-09\n",
      " 4.82630776e-11 1.99802621e-15 9.58445128e-08 3.59431523e-16]\n"
     ]
    }
   ],
   "source": [
    "print(\"Probabilities that underlying distribution of this count vector\")\n",
    "print(counts[0])\n",
    "print(\"with\",np.sum(counts[0]), \"residues observed\")\n",
    "print(\"corresponds to the j'th component of the mixture:\")\n",
    "print(posterior_component_prob[0].numpy())"
   ]
  },
  {
   "cell_type": "code",
   "execution_count": 6,
   "metadata": {},
   "outputs": [
    {
     "data": {
      "image/png": "[encoded data removed]",
      "text/plain": [
       "<Figure size 576x576 with 1 Axes>"
      ]
     },
     "metadata": {
      "needs_background": "light"
     },
     "output_type": "display_data"
    }
   ],
   "source": [
    "plt.rcParams['figure.figsize'] = (8, 8)\n",
    "plt.bar(ALPHABET, posterior_amino_acid_prob[0])\n",
    "plt.title(\"Posterior distribution of the count vector \" + str(counts[0]))\n",
    "plt.show()"
   ]
  },
  {
   "cell_type": "code",
   "execution_count": 5,
   "metadata": {},
   "outputs": [
    {
     "name": "stdout",
     "output_type": "stream",
     "text": [
      "[ 72.   0.   0.   0.   6.   1.   0.   4.   0. 167.  87.   0.  30.  52.\n",
      "   0.  79.   8.   1.   1.  64.   0.   0.   0.   0.   0.]\n",
      "tf.Tensor(\n",
      "[[1.4274842e-33 1.1644311e-31 6.5140794e-38 3.8526139e-36 1.0905045e-28\n",
      "  3.0081620e-31 0.0000000e+00 0.0000000e+00 0.0000000e+00 4.1386375e-33\n",
      "  1.4952393e-38 3.4968242e-35 5.4718080e-35]], shape=(1, 13), dtype=float32)\n",
      "72.0 A 0.388746 tf.Tensor(0.29851678, shape=(), dtype=float32)\n",
      "6.0 C 0.0367385 tf.Tensor(0.028211374, shape=(), dtype=float32)\n",
      "0.0 D 0.026518 tf.Tensor(0.020363085, shape=(), dtype=float32)\n",
      "0.0 E 0.0322076 tf.Tensor(0.024732111, shape=(), dtype=float32)\n",
      "52.0 F 0.0137612 tf.Tensor(0.01056718, shape=(), dtype=float32)\n",
      "4.0 G 0.206244 tf.Tensor(0.15837409, shape=(), dtype=float32)\n",
      "0.0 H 0.0059514 tf.Tensor(0.0045700604, shape=(), dtype=float32)\n",
      "167.0 I 0.0158113 tf.Tensor(0.012141445, shape=(), dtype=float32)\n",
      "0.0 K 0.0351076 tf.Tensor(0.026959011, shape=(), dtype=float32)\n",
      "87.0 L 0.0350778 tf.Tensor(0.026936127, shape=(), dtype=float32)\n",
      "30.0 M 0.0164858 tf.Tensor(0.01265939, shape=(), dtype=float32)\n",
      "0.0 N 0.0224268 tf.Tensor(0.017221466, shape=(), dtype=float32)\n",
      "0.0 P 0.0917171 tf.Tensor(0.07042926, shape=(), dtype=float32)\n",
      "1.0 Q 0.0241792 tf.Tensor(0.018567128, shape=(), dtype=float32)\n",
      "0.0 R 0.0253054 tf.Tensor(0.019431934, shape=(), dtype=float32)\n",
      "79.0 S 0.187681 tf.Tensor(0.14411962, shape=(), dtype=float32)\n",
      "8.0 T 0.0626166 tf.Tensor(0.04808308, shape=(), dtype=float32)\n",
      "64.0 V 0.0602319 tf.Tensor(0.04625188, shape=(), dtype=float32)\n",
      "1.0 W 0.00498456 tf.Tensor(0.003827627, shape=(), dtype=float32)\n",
      "1.0 Y 0.0104666 tf.Tensor(0.008037267, shape=(), dtype=float32)\n"
     ]
    },
    {
     "data": {
      "text/plain": [
       "<tf.Tensor: shape=(), dtype=float32, numpy=1.4274842e-33>"
      ]
     },
     "execution_count": 5,
     "metadata": {},
     "output_type": "execute_result"
    }
   ],
   "source": [
    "import Data as data\n",
    "pf3 = data.Fasta(\"../brain/Pfam/alignments/PF00003.fasta\", gaps = True, contains_lower_case = True)\n",
    "\n",
    "\n",
    "#counts = [ 16., 134. ,  9. ,  0.,  28.,  10. ,  2. ,  1. , 38. , 42.,  32., 210.,  14.,  11.,\n",
    "#  20.,  12. , 13. , 23. , 32. , 46.]\n",
    "\n",
    "counts = pf3.column_count_vectors[0]\n",
    "ALPHABET = ['A', 'R',  'N',  'D',  'C',  'Q',  'E',  'G',  'H', 'I',  'L',  'K',  \n",
    "            'M',  'F',  'P', 'S',  'T',  'W',  'Y',  'V',  'B',  'Z',  'X', 'U', 'O']\n",
    "\n",
    "print(counts)\n",
    "\n",
    "file_alphabet = \"A C D E F G H I K L M N P Q R S T V W Y\".split()\n",
    "perm = [ALPHABET.index(aa) for aa in file_alphabet] \n",
    "#print(perm)\n",
    "counts_perm = np.array(counts[:20],dtype=np.float32)[perm]\n",
    "#print(counts_perm)\n",
    "\n",
    "dirichlet_mixture.posterior_component_prob(np.expand_dims(counts_perm,0))\n",
    "\n",
    "for c,a,d,p in zip(counts_perm, \n",
    "                   file_alphabet, \n",
    "                   dirichlet_mixture.alpha[0], \n",
    "                   dirichlet_mixture.component_distributions()[0]):\n",
    "    print(c,a,d.numpy(),p)\n",
    "    \n",
    "dist = tfp.distributions.DirichletMultinomial(np.sum(counts_perm,-1), dirichlet_mixture.alpha[0])\n",
    "dist.prob(counts_perm)"
   ]
  },
  {
   "cell_type": "code",
   "execution_count": null,
   "metadata": {},
   "outputs": [],
   "source": []
  }
 ],
 "metadata": {
  "kernelspec": {
   "display_name": "Python 3",
   "language": "python",
   "name": "python3"
  },
  "language_info": {
   "codemirror_mode": {
    "name": "ipython",
    "version": 3
   },
   "file_extension": ".py",
   "mimetype": "text/x-python",
   "name": "python",
   "nbconvert_exporter": "python",
   "pygments_lexer": "ipython3",
   "version": "3.8.6"
  }
 },
 "nbformat": 4,
 "nbformat_minor": 4
}
